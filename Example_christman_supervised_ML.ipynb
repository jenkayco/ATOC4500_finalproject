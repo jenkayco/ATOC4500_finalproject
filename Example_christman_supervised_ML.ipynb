{
  "cells": [
    {
      "cell_type": "code",
      "execution_count": null,
      "id": "d7ee120c",
      "metadata": {
        "id": "d7ee120c"
      },
      "outputs": [],
      "source": [
        "### supervised machine learning\n",
        "### Coded by Eleanor Middlemas (Jupiter, formerly University of Colorado)\n",
        "### Additional code/commenting from Jennifer Kay (University of Colorado) \n",
        "### Last updated March 31, 2022\n",
        "\n",
        "import pandas as pd\n",
        "import numpy as np\n",
        "import datetime\n",
        "import time\n",
        "from google.colab import files"
      ]
    },
    {
      "cell_type": "code",
      "source": [
        "### upload file christman_2016.csv\n",
        "uploaded = files.upload()\n",
        "\n",
        "for fn in uploaded.keys():\n",
        "  print('User uploaded file \"{name}\" with length {length} bytes'.format(\n",
        "      name=fn, length=len(uploaded[fn])))#"
      ],
      "metadata": {
        "colab": {
          "resources": {
            "http://localhost:8080/nbextensions/google.colab/files.js": {
              "data": "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",
              "ok": true,
              "headers": [
                [
                  "content-type",
                  "application/javascript"
                ]
              ],
              "status": 200,
              "status_text": ""
            }
          },
          "base_uri": "https://localhost:8080/",
          "height": 90
        },
        "id": "xlOs7rl3_9Tf",
        "outputId": "17a05457-d64d-4ee0-86bc-77544119a04d"
      },
      "id": "xlOs7rl3_9Tf",
      "execution_count": null,
      "outputs": [
        {
          "output_type": "display_data",
          "data": {
            "text/plain": [
              "<IPython.core.display.HTML object>"
            ],
            "text/html": [
              "\n",
              "     <input type=\"file\" id=\"files-7b13e13b-b40c-4d00-b458-d9f29be5e1ec\" name=\"files[]\" multiple disabled\n",
              "        style=\"border:none\" />\n",
              "     <output id=\"result-7b13e13b-b40c-4d00-b458-d9f29be5e1ec\">\n",
              "      Upload widget is only available when the cell has been executed in the\n",
              "      current browser session. Please rerun this cell to enable.\n",
              "      </output>\n",
              "      <script src=\"/nbextensions/google.colab/files.js\"></script> "
            ]
          },
          "metadata": {}
        },
        {
          "output_type": "stream",
          "name": "stdout",
          "text": [
            "Saving christman_2016.csv to christman_2016.csv\n",
            "User uploaded file \"christman_2016.csv\" with length 510492 bytes\n"
          ]
        }
      ]
    },
    {
      "cell_type": "code",
      "execution_count": null,
      "id": "11e6df61",
      "metadata": {
        "colab": {
          "base_uri": "https://localhost:8080/",
          "height": 424
        },
        "id": "11e6df61",
        "outputId": "711c4259-afc3-4c37-b7fe-b39b8ea2df8a"
      },
      "outputs": [
        {
          "output_type": "execute_result",
          "data": {
            "text/plain": [
              "        day      hour  temp_F    RH  dewtemp_F  wind_mph  wind_dir  windgust  \\\n",
              "0     42370  0.000000     7.0  72.2       -0.1       1.2       234       3.9   \n",
              "1     42370  0.041667     5.4  74.3       -1.0       3.4       299       7.1   \n",
              "2     42370  0.083333     6.4  73.8       -0.2       2.8       200       7.0   \n",
              "3     42370  0.125000     3.0  73.5       -3.6       2.9       309       6.1   \n",
              "4     42370  0.166667     3.7  76.9       -1.9       3.1       346       5.3   \n",
              "...     ...       ...     ...   ...        ...       ...       ...       ...   \n",
              "8779  42735  0.791667    22.3  74.3       15.4       0.9       221       3.3   \n",
              "8780  42735  0.833333    20.3  80.4       15.3       0.6       279       2.9   \n",
              "8781  42735  0.875000    19.9  81.1       15.1       0.5       197       2.5   \n",
              "8782  42735  0.916667    17.8  82.8       13.5       2.0       353       4.8   \n",
              "8783  42735  0.958333    16.3  84.1       12.4       1.0       191       4.9   \n",
              "\n",
              "      windgust_dir  pres_Hg  SOLIN_Wm2  Prec_inches  \n",
              "0              224   851.30        0.0          0.0  \n",
              "1              302   850.82        0.0          0.0  \n",
              "2              301   849.83        0.0          0.0  \n",
              "3              349   850.69        0.0          0.0  \n",
              "4              255   848.24        0.0          0.0  \n",
              "...            ...      ...        ...          ...  \n",
              "8779           202   833.32        0.0          0.0  \n",
              "8780           279   833.45        0.1          0.0  \n",
              "8781           279   833.01        0.1          0.0  \n",
              "8782           352   832.78        0.1          0.0  \n",
              "8783           353   832.62        0.0          0.0  \n",
              "\n",
              "[8784 rows x 12 columns]"
            ],
            "text/html": [
              "\n",
              "  <div id=\"df-f748891c-51a5-43b8-a5ff-96d5655cf05a\">\n",
              "    <div class=\"colab-df-container\">\n",
              "      <div>\n",
              "<style scoped>\n",
              "    .dataframe tbody tr th:only-of-type {\n",
              "        vertical-align: middle;\n",
              "    }\n",
              "\n",
              "    .dataframe tbody tr th {\n",
              "        vertical-align: top;\n",
              "    }\n",
              "\n",
              "    .dataframe thead th {\n",
              "        text-align: right;\n",
              "    }\n",
              "</style>\n",
              "<table border=\"1\" class=\"dataframe\">\n",
              "  <thead>\n",
              "    <tr style=\"text-align: right;\">\n",
              "      <th></th>\n",
              "      <th>day</th>\n",
              "      <th>hour</th>\n",
              "      <th>temp_F</th>\n",
              "      <th>RH</th>\n",
              "      <th>dewtemp_F</th>\n",
              "      <th>wind_mph</th>\n",
              "      <th>wind_dir</th>\n",
              "      <th>windgust</th>\n",
              "      <th>windgust_dir</th>\n",
              "      <th>pres_Hg</th>\n",
              "      <th>SOLIN_Wm2</th>\n",
              "      <th>Prec_inches</th>\n",
              "    </tr>\n",
              "  </thead>\n",
              "  <tbody>\n",
              "    <tr>\n",
              "      <th>0</th>\n",
              "      <td>42370</td>\n",
              "      <td>0.000000</td>\n",
              "      <td>7.0</td>\n",
              "      <td>72.2</td>\n",
              "      <td>-0.1</td>\n",
              "      <td>1.2</td>\n",
              "      <td>234</td>\n",
              "      <td>3.9</td>\n",
              "      <td>224</td>\n",
              "      <td>851.30</td>\n",
              "      <td>0.0</td>\n",
              "      <td>0.0</td>\n",
              "    </tr>\n",
              "    <tr>\n",
              "      <th>1</th>\n",
              "      <td>42370</td>\n",
              "      <td>0.041667</td>\n",
              "      <td>5.4</td>\n",
              "      <td>74.3</td>\n",
              "      <td>-1.0</td>\n",
              "      <td>3.4</td>\n",
              "      <td>299</td>\n",
              "      <td>7.1</td>\n",
              "      <td>302</td>\n",
              "      <td>850.82</td>\n",
              "      <td>0.0</td>\n",
              "      <td>0.0</td>\n",
              "    </tr>\n",
              "    <tr>\n",
              "      <th>2</th>\n",
              "      <td>42370</td>\n",
              "      <td>0.083333</td>\n",
              "      <td>6.4</td>\n",
              "      <td>73.8</td>\n",
              "      <td>-0.2</td>\n",
              "      <td>2.8</td>\n",
              "      <td>200</td>\n",
              "      <td>7.0</td>\n",
              "      <td>301</td>\n",
              "      <td>849.83</td>\n",
              "      <td>0.0</td>\n",
              "      <td>0.0</td>\n",
              "    </tr>\n",
              "    <tr>\n",
              "      <th>3</th>\n",
              "      <td>42370</td>\n",
              "      <td>0.125000</td>\n",
              "      <td>3.0</td>\n",
              "      <td>73.5</td>\n",
              "      <td>-3.6</td>\n",
              "      <td>2.9</td>\n",
              "      <td>309</td>\n",
              "      <td>6.1</td>\n",
              "      <td>349</td>\n",
              "      <td>850.69</td>\n",
              "      <td>0.0</td>\n",
              "      <td>0.0</td>\n",
              "    </tr>\n",
              "    <tr>\n",
              "      <th>4</th>\n",
              "      <td>42370</td>\n",
              "      <td>0.166667</td>\n",
              "      <td>3.7</td>\n",
              "      <td>76.9</td>\n",
              "      <td>-1.9</td>\n",
              "      <td>3.1</td>\n",
              "      <td>346</td>\n",
              "      <td>5.3</td>\n",
              "      <td>255</td>\n",
              "      <td>848.24</td>\n",
              "      <td>0.0</td>\n",
              "      <td>0.0</td>\n",
              "    </tr>\n",
              "    <tr>\n",
              "      <th>...</th>\n",
              "      <td>...</td>\n",
              "      <td>...</td>\n",
              "      <td>...</td>\n",
              "      <td>...</td>\n",
              "      <td>...</td>\n",
              "      <td>...</td>\n",
              "      <td>...</td>\n",
              "      <td>...</td>\n",
              "      <td>...</td>\n",
              "      <td>...</td>\n",
              "      <td>...</td>\n",
              "      <td>...</td>\n",
              "    </tr>\n",
              "    <tr>\n",
              "      <th>8779</th>\n",
              "      <td>42735</td>\n",
              "      <td>0.791667</td>\n",
              "      <td>22.3</td>\n",
              "      <td>74.3</td>\n",
              "      <td>15.4</td>\n",
              "      <td>0.9</td>\n",
              "      <td>221</td>\n",
              "      <td>3.3</td>\n",
              "      <td>202</td>\n",
              "      <td>833.32</td>\n",
              "      <td>0.0</td>\n",
              "      <td>0.0</td>\n",
              "    </tr>\n",
              "    <tr>\n",
              "      <th>8780</th>\n",
              "      <td>42735</td>\n",
              "      <td>0.833333</td>\n",
              "      <td>20.3</td>\n",
              "      <td>80.4</td>\n",
              "      <td>15.3</td>\n",
              "      <td>0.6</td>\n",
              "      <td>279</td>\n",
              "      <td>2.9</td>\n",
              "      <td>279</td>\n",
              "      <td>833.45</td>\n",
              "      <td>0.1</td>\n",
              "      <td>0.0</td>\n",
              "    </tr>\n",
              "    <tr>\n",
              "      <th>8781</th>\n",
              "      <td>42735</td>\n",
              "      <td>0.875000</td>\n",
              "      <td>19.9</td>\n",
              "      <td>81.1</td>\n",
              "      <td>15.1</td>\n",
              "      <td>0.5</td>\n",
              "      <td>197</td>\n",
              "      <td>2.5</td>\n",
              "      <td>279</td>\n",
              "      <td>833.01</td>\n",
              "      <td>0.1</td>\n",
              "      <td>0.0</td>\n",
              "    </tr>\n",
              "    <tr>\n",
              "      <th>8782</th>\n",
              "      <td>42735</td>\n",
              "      <td>0.916667</td>\n",
              "      <td>17.8</td>\n",
              "      <td>82.8</td>\n",
              "      <td>13.5</td>\n",
              "      <td>2.0</td>\n",
              "      <td>353</td>\n",
              "      <td>4.8</td>\n",
              "      <td>352</td>\n",
              "      <td>832.78</td>\n",
              "      <td>0.1</td>\n",
              "      <td>0.0</td>\n",
              "    </tr>\n",
              "    <tr>\n",
              "      <th>8783</th>\n",
              "      <td>42735</td>\n",
              "      <td>0.958333</td>\n",
              "      <td>16.3</td>\n",
              "      <td>84.1</td>\n",
              "      <td>12.4</td>\n",
              "      <td>1.0</td>\n",
              "      <td>191</td>\n",
              "      <td>4.9</td>\n",
              "      <td>353</td>\n",
              "      <td>832.62</td>\n",
              "      <td>0.0</td>\n",
              "      <td>0.0</td>\n",
              "    </tr>\n",
              "  </tbody>\n",
              "</table>\n",
              "<p>8784 rows × 12 columns</p>\n",
              "</div>\n",
              "      <button class=\"colab-df-convert\" onclick=\"convertToInteractive('df-f748891c-51a5-43b8-a5ff-96d5655cf05a')\"\n",
              "              title=\"Convert this dataframe to an interactive table.\"\n",
              "              style=\"display:none;\">\n",
              "        \n",
              "  <svg xmlns=\"http://www.w3.org/2000/svg\" height=\"24px\"viewBox=\"0 0 24 24\"\n",
              "       width=\"24px\">\n",
              "    <path d=\"M0 0h24v24H0V0z\" fill=\"none\"/>\n",
              "    <path d=\"M18.56 5.44l.94 2.06.94-2.06 2.06-.94-2.06-.94-.94-2.06-.94 2.06-2.06.94zm-11 1L8.5 8.5l.94-2.06 2.06-.94-2.06-.94L8.5 2.5l-.94 2.06-2.06.94zm10 10l.94 2.06.94-2.06 2.06-.94-2.06-.94-.94-2.06-.94 2.06-2.06.94z\"/><path d=\"M17.41 7.96l-1.37-1.37c-.4-.4-.92-.59-1.43-.59-.52 0-1.04.2-1.43.59L10.3 9.45l-7.72 7.72c-.78.78-.78 2.05 0 2.83L4 21.41c.39.39.9.59 1.41.59.51 0 1.02-.2 1.41-.59l7.78-7.78 2.81-2.81c.8-.78.8-2.07 0-2.86zM5.41 20L4 18.59l7.72-7.72 1.47 1.35L5.41 20z\"/>\n",
              "  </svg>\n",
              "      </button>\n",
              "      \n",
              "  <style>\n",
              "    .colab-df-container {\n",
              "      display:flex;\n",
              "      flex-wrap:wrap;\n",
              "      gap: 12px;\n",
              "    }\n",
              "\n",
              "    .colab-df-convert {\n",
              "      background-color: #E8F0FE;\n",
              "      border: none;\n",
              "      border-radius: 50%;\n",
              "      cursor: pointer;\n",
              "      display: none;\n",
              "      fill: #1967D2;\n",
              "      height: 32px;\n",
              "      padding: 0 0 0 0;\n",
              "      width: 32px;\n",
              "    }\n",
              "\n",
              "    .colab-df-convert:hover {\n",
              "      background-color: #E2EBFA;\n",
              "      box-shadow: 0px 1px 2px rgba(60, 64, 67, 0.3), 0px 1px 3px 1px rgba(60, 64, 67, 0.15);\n",
              "      fill: #174EA6;\n",
              "    }\n",
              "\n",
              "    [theme=dark] .colab-df-convert {\n",
              "      background-color: #3B4455;\n",
              "      fill: #D2E3FC;\n",
              "    }\n",
              "\n",
              "    [theme=dark] .colab-df-convert:hover {\n",
              "      background-color: #434B5C;\n",
              "      box-shadow: 0px 1px 3px 1px rgba(0, 0, 0, 0.15);\n",
              "      filter: drop-shadow(0px 1px 2px rgba(0, 0, 0, 0.3));\n",
              "      fill: #FFFFFF;\n",
              "    }\n",
              "  </style>\n",
              "\n",
              "      <script>\n",
              "        const buttonEl =\n",
              "          document.querySelector('#df-f748891c-51a5-43b8-a5ff-96d5655cf05a button.colab-df-convert');\n",
              "        buttonEl.style.display =\n",
              "          google.colab.kernel.accessAllowed ? 'block' : 'none';\n",
              "\n",
              "        async function convertToInteractive(key) {\n",
              "          const element = document.querySelector('#df-f748891c-51a5-43b8-a5ff-96d5655cf05a');\n",
              "          const dataTable =\n",
              "            await google.colab.kernel.invokeFunction('convertToInteractive',\n",
              "                                                     [key], {});\n",
              "          if (!dataTable) return;\n",
              "\n",
              "          const docLinkHtml = 'Like what you see? Visit the ' +\n",
              "            '<a target=\"_blank\" href=https://colab.research.google.com/notebooks/data_table.ipynb>data table notebook</a>'\n",
              "            + ' to learn more about interactive tables.';\n",
              "          element.innerHTML = '';\n",
              "          dataTable['output_type'] = 'display_data';\n",
              "          await google.colab.output.renderOutput(dataTable, element);\n",
              "          const docLink = document.createElement('div');\n",
              "          docLink.innerHTML = docLinkHtml;\n",
              "          element.appendChild(docLink);\n",
              "        }\n",
              "      </script>\n",
              "    </div>\n",
              "  </div>\n",
              "  "
            ]
          },
          "metadata": {},
          "execution_count": 4
        }
      ],
      "source": [
        "# read in the data\n",
        "df = pd.read_csv(\"christman_2016.csv\")\n",
        "# preview data (also through df.head() & df.tail())\n",
        "df"
      ]
    },
    {
      "cell_type": "markdown",
      "id": "aacc35d3",
      "metadata": {
        "id": "aacc35d3"
      },
      "source": [
        "**Deal with the time dimension**"
      ]
    },
    {
      "cell_type": "code",
      "execution_count": null,
      "id": "3e2b3f70",
      "metadata": {
        "colab": {
          "base_uri": "https://localhost:8080/"
        },
        "id": "3e2b3f70",
        "outputId": "575f1202-7564-4432-b79b-5b6e90ba6fe0"
      },
      "outputs": [
        {
          "output_type": "execute_result",
          "data": {
            "text/plain": [
              "366"
            ]
          },
          "metadata": {},
          "execution_count": 5
        }
      ],
      "source": [
        "df.day.nunique() ## How many days are in this dataset?"
      ]
    },
    {
      "cell_type": "code",
      "execution_count": null,
      "id": "223ec84b",
      "metadata": {
        "id": "223ec84b"
      },
      "outputs": [],
      "source": [
        "##Optional: transform the day column into a readable date. Run this ONCE.\n",
        "df['day'] = [datetime.date.fromordinal(day+693594) for day in df['day']]"
      ]
    },
    {
      "cell_type": "markdown",
      "id": "2b9ff5d4",
      "metadata": {
        "id": "2b9ff5d4"
      },
      "source": [
        "**Q1. What exactly are you trying to predict?**\n",
        "\n",
        "First, split data into predictor & predictands. "
      ]
    },
    {
      "cell_type": "code",
      "execution_count": null,
      "id": "92dd2ad5",
      "metadata": {
        "colab": {
          "base_uri": "https://localhost:8080/"
        },
        "id": "92dd2ad5",
        "outputId": "709d720f-e3e4-4098-b4f0-6238853d7146"
      },
      "outputs": [
        {
          "output_type": "stream",
          "name": "stdout",
          "text": [
            "Index(['day', 'hour', 'temp_F', 'RH', 'dewtemp_F', 'wind_mph', 'wind_dir',\n",
            "       'windgust', 'windgust_dir', 'pres_Hg', 'SOLIN_Wm2', 'Prec_inches'],\n",
            "      dtype='object')\n"
          ]
        }
      ],
      "source": [
        "##I'm going to create (or \"engineer\") a new feature that indicates whether precipitation occurred. \n",
        "## Perform this step ONCE.\n",
        "\n",
        "print(df.columns) # print so that you can see what is the variable called that indicates precipitation amount?\n",
        "\n",
        "df['prec_occur'] = np.array(df.Prec_inches!=0).astype(int)"
      ]
    },
    {
      "cell_type": "code",
      "execution_count": null,
      "id": "482a82c6",
      "metadata": {
        "colab": {
          "base_uri": "https://localhost:8080/",
          "height": 424
        },
        "id": "482a82c6",
        "outputId": "6b7280e2-6040-47e1-cabb-2e5ce9be5411"
      },
      "outputs": [
        {
          "output_type": "execute_result",
          "data": {
            "text/plain": [
              "      temp_F    RH  dewtemp_F  wind_mph  wind_dir  windgust  windgust_dir  \\\n",
              "0        7.0  72.2       -0.1       1.2       234       3.9           224   \n",
              "1        5.4  74.3       -1.0       3.4       299       7.1           302   \n",
              "2        6.4  73.8       -0.2       2.8       200       7.0           301   \n",
              "3        3.0  73.5       -3.6       2.9       309       6.1           349   \n",
              "4        3.7  76.9       -1.9       3.1       346       5.3           255   \n",
              "...      ...   ...        ...       ...       ...       ...           ...   \n",
              "8779    22.3  74.3       15.4       0.9       221       3.3           202   \n",
              "8780    20.3  80.4       15.3       0.6       279       2.9           279   \n",
              "8781    19.9  81.1       15.1       0.5       197       2.5           279   \n",
              "8782    17.8  82.8       13.5       2.0       353       4.8           352   \n",
              "8783    16.3  84.1       12.4       1.0       191       4.9           353   \n",
              "\n",
              "      pres_Hg  SOLIN_Wm2  prec_occur  \n",
              "0      851.30        0.0           0  \n",
              "1      850.82        0.0           0  \n",
              "2      849.83        0.0           0  \n",
              "3      850.69        0.0           0  \n",
              "4      848.24        0.0           0  \n",
              "...       ...        ...         ...  \n",
              "8779   833.32        0.0           0  \n",
              "8780   833.45        0.1           0  \n",
              "8781   833.01        0.1           0  \n",
              "8782   832.78        0.1           0  \n",
              "8783   832.62        0.0           0  \n",
              "\n",
              "[8784 rows x 10 columns]"
            ],
            "text/html": [
              "\n",
              "  <div id=\"df-63b4fa05-5dd5-4e1f-83ba-fc4f79447374\">\n",
              "    <div class=\"colab-df-container\">\n",
              "      <div>\n",
              "<style scoped>\n",
              "    .dataframe tbody tr th:only-of-type {\n",
              "        vertical-align: middle;\n",
              "    }\n",
              "\n",
              "    .dataframe tbody tr th {\n",
              "        vertical-align: top;\n",
              "    }\n",
              "\n",
              "    .dataframe thead th {\n",
              "        text-align: right;\n",
              "    }\n",
              "</style>\n",
              "<table border=\"1\" class=\"dataframe\">\n",
              "  <thead>\n",
              "    <tr style=\"text-align: right;\">\n",
              "      <th></th>\n",
              "      <th>temp_F</th>\n",
              "      <th>RH</th>\n",
              "      <th>dewtemp_F</th>\n",
              "      <th>wind_mph</th>\n",
              "      <th>wind_dir</th>\n",
              "      <th>windgust</th>\n",
              "      <th>windgust_dir</th>\n",
              "      <th>pres_Hg</th>\n",
              "      <th>SOLIN_Wm2</th>\n",
              "      <th>prec_occur</th>\n",
              "    </tr>\n",
              "  </thead>\n",
              "  <tbody>\n",
              "    <tr>\n",
              "      <th>0</th>\n",
              "      <td>7.0</td>\n",
              "      <td>72.2</td>\n",
              "      <td>-0.1</td>\n",
              "      <td>1.2</td>\n",
              "      <td>234</td>\n",
              "      <td>3.9</td>\n",
              "      <td>224</td>\n",
              "      <td>851.30</td>\n",
              "      <td>0.0</td>\n",
              "      <td>0</td>\n",
              "    </tr>\n",
              "    <tr>\n",
              "      <th>1</th>\n",
              "      <td>5.4</td>\n",
              "      <td>74.3</td>\n",
              "      <td>-1.0</td>\n",
              "      <td>3.4</td>\n",
              "      <td>299</td>\n",
              "      <td>7.1</td>\n",
              "      <td>302</td>\n",
              "      <td>850.82</td>\n",
              "      <td>0.0</td>\n",
              "      <td>0</td>\n",
              "    </tr>\n",
              "    <tr>\n",
              "      <th>2</th>\n",
              "      <td>6.4</td>\n",
              "      <td>73.8</td>\n",
              "      <td>-0.2</td>\n",
              "      <td>2.8</td>\n",
              "      <td>200</td>\n",
              "      <td>7.0</td>\n",
              "      <td>301</td>\n",
              "      <td>849.83</td>\n",
              "      <td>0.0</td>\n",
              "      <td>0</td>\n",
              "    </tr>\n",
              "    <tr>\n",
              "      <th>3</th>\n",
              "      <td>3.0</td>\n",
              "      <td>73.5</td>\n",
              "      <td>-3.6</td>\n",
              "      <td>2.9</td>\n",
              "      <td>309</td>\n",
              "      <td>6.1</td>\n",
              "      <td>349</td>\n",
              "      <td>850.69</td>\n",
              "      <td>0.0</td>\n",
              "      <td>0</td>\n",
              "    </tr>\n",
              "    <tr>\n",
              "      <th>4</th>\n",
              "      <td>3.7</td>\n",
              "      <td>76.9</td>\n",
              "      <td>-1.9</td>\n",
              "      <td>3.1</td>\n",
              "      <td>346</td>\n",
              "      <td>5.3</td>\n",
              "      <td>255</td>\n",
              "      <td>848.24</td>\n",
              "      <td>0.0</td>\n",
              "      <td>0</td>\n",
              "    </tr>\n",
              "    <tr>\n",
              "      <th>...</th>\n",
              "      <td>...</td>\n",
              "      <td>...</td>\n",
              "      <td>...</td>\n",
              "      <td>...</td>\n",
              "      <td>...</td>\n",
              "      <td>...</td>\n",
              "      <td>...</td>\n",
              "      <td>...</td>\n",
              "      <td>...</td>\n",
              "      <td>...</td>\n",
              "    </tr>\n",
              "    <tr>\n",
              "      <th>8779</th>\n",
              "      <td>22.3</td>\n",
              "      <td>74.3</td>\n",
              "      <td>15.4</td>\n",
              "      <td>0.9</td>\n",
              "      <td>221</td>\n",
              "      <td>3.3</td>\n",
              "      <td>202</td>\n",
              "      <td>833.32</td>\n",
              "      <td>0.0</td>\n",
              "      <td>0</td>\n",
              "    </tr>\n",
              "    <tr>\n",
              "      <th>8780</th>\n",
              "      <td>20.3</td>\n",
              "      <td>80.4</td>\n",
              "      <td>15.3</td>\n",
              "      <td>0.6</td>\n",
              "      <td>279</td>\n",
              "      <td>2.9</td>\n",
              "      <td>279</td>\n",
              "      <td>833.45</td>\n",
              "      <td>0.1</td>\n",
              "      <td>0</td>\n",
              "    </tr>\n",
              "    <tr>\n",
              "      <th>8781</th>\n",
              "      <td>19.9</td>\n",
              "      <td>81.1</td>\n",
              "      <td>15.1</td>\n",
              "      <td>0.5</td>\n",
              "      <td>197</td>\n",
              "      <td>2.5</td>\n",
              "      <td>279</td>\n",
              "      <td>833.01</td>\n",
              "      <td>0.1</td>\n",
              "      <td>0</td>\n",
              "    </tr>\n",
              "    <tr>\n",
              "      <th>8782</th>\n",
              "      <td>17.8</td>\n",
              "      <td>82.8</td>\n",
              "      <td>13.5</td>\n",
              "      <td>2.0</td>\n",
              "      <td>353</td>\n",
              "      <td>4.8</td>\n",
              "      <td>352</td>\n",
              "      <td>832.78</td>\n",
              "      <td>0.1</td>\n",
              "      <td>0</td>\n",
              "    </tr>\n",
              "    <tr>\n",
              "      <th>8783</th>\n",
              "      <td>16.3</td>\n",
              "      <td>84.1</td>\n",
              "      <td>12.4</td>\n",
              "      <td>1.0</td>\n",
              "      <td>191</td>\n",
              "      <td>4.9</td>\n",
              "      <td>353</td>\n",
              "      <td>832.62</td>\n",
              "      <td>0.0</td>\n",
              "      <td>0</td>\n",
              "    </tr>\n",
              "  </tbody>\n",
              "</table>\n",
              "<p>8784 rows × 10 columns</p>\n",
              "</div>\n",
              "      <button class=\"colab-df-convert\" onclick=\"convertToInteractive('df-63b4fa05-5dd5-4e1f-83ba-fc4f79447374')\"\n",
              "              title=\"Convert this dataframe to an interactive table.\"\n",
              "              style=\"display:none;\">\n",
              "        \n",
              "  <svg xmlns=\"http://www.w3.org/2000/svg\" height=\"24px\"viewBox=\"0 0 24 24\"\n",
              "       width=\"24px\">\n",
              "    <path d=\"M0 0h24v24H0V0z\" fill=\"none\"/>\n",
              "    <path d=\"M18.56 5.44l.94 2.06.94-2.06 2.06-.94-2.06-.94-.94-2.06-.94 2.06-2.06.94zm-11 1L8.5 8.5l.94-2.06 2.06-.94-2.06-.94L8.5 2.5l-.94 2.06-2.06.94zm10 10l.94 2.06.94-2.06 2.06-.94-2.06-.94-.94-2.06-.94 2.06-2.06.94z\"/><path d=\"M17.41 7.96l-1.37-1.37c-.4-.4-.92-.59-1.43-.59-.52 0-1.04.2-1.43.59L10.3 9.45l-7.72 7.72c-.78.78-.78 2.05 0 2.83L4 21.41c.39.39.9.59 1.41.59.51 0 1.02-.2 1.41-.59l7.78-7.78 2.81-2.81c.8-.78.8-2.07 0-2.86zM5.41 20L4 18.59l7.72-7.72 1.47 1.35L5.41 20z\"/>\n",
              "  </svg>\n",
              "      </button>\n",
              "      \n",
              "  <style>\n",
              "    .colab-df-container {\n",
              "      display:flex;\n",
              "      flex-wrap:wrap;\n",
              "      gap: 12px;\n",
              "    }\n",
              "\n",
              "    .colab-df-convert {\n",
              "      background-color: #E8F0FE;\n",
              "      border: none;\n",
              "      border-radius: 50%;\n",
              "      cursor: pointer;\n",
              "      display: none;\n",
              "      fill: #1967D2;\n",
              "      height: 32px;\n",
              "      padding: 0 0 0 0;\n",
              "      width: 32px;\n",
              "    }\n",
              "\n",
              "    .colab-df-convert:hover {\n",
              "      background-color: #E2EBFA;\n",
              "      box-shadow: 0px 1px 2px rgba(60, 64, 67, 0.3), 0px 1px 3px 1px rgba(60, 64, 67, 0.15);\n",
              "      fill: #174EA6;\n",
              "    }\n",
              "\n",
              "    [theme=dark] .colab-df-convert {\n",
              "      background-color: #3B4455;\n",
              "      fill: #D2E3FC;\n",
              "    }\n",
              "\n",
              "    [theme=dark] .colab-df-convert:hover {\n",
              "      background-color: #434B5C;\n",
              "      box-shadow: 0px 1px 3px 1px rgba(0, 0, 0, 0.15);\n",
              "      filter: drop-shadow(0px 1px 2px rgba(0, 0, 0, 0.3));\n",
              "      fill: #FFFFFF;\n",
              "    }\n",
              "  </style>\n",
              "\n",
              "      <script>\n",
              "        const buttonEl =\n",
              "          document.querySelector('#df-63b4fa05-5dd5-4e1f-83ba-fc4f79447374 button.colab-df-convert');\n",
              "        buttonEl.style.display =\n",
              "          google.colab.kernel.accessAllowed ? 'block' : 'none';\n",
              "\n",
              "        async function convertToInteractive(key) {\n",
              "          const element = document.querySelector('#df-63b4fa05-5dd5-4e1f-83ba-fc4f79447374');\n",
              "          const dataTable =\n",
              "            await google.colab.kernel.invokeFunction('convertToInteractive',\n",
              "                                                     [key], {});\n",
              "          if (!dataTable) return;\n",
              "\n",
              "          const docLinkHtml = 'Like what you see? Visit the ' +\n",
              "            '<a target=\"_blank\" href=https://colab.research.google.com/notebooks/data_table.ipynb>data table notebook</a>'\n",
              "            + ' to learn more about interactive tables.';\n",
              "          element.innerHTML = '';\n",
              "          dataTable['output_type'] = 'display_data';\n",
              "          await google.colab.output.renderOutput(dataTable, element);\n",
              "          const docLink = document.createElement('div');\n",
              "          docLink.innerHTML = docLinkHtml;\n",
              "          element.appendChild(docLink);\n",
              "        }\n",
              "      </script>\n",
              "    </div>\n",
              "  </div>\n",
              "  "
            ]
          },
          "metadata": {},
          "execution_count": 8
        }
      ],
      "source": [
        "#Next, select the data that will be predictors.\n",
        "predictors = df.copy(deep=True)  # here, we use \"deep = True\" so that changes to predictors won't be made to the df.\n",
        "\n",
        "#Next, we drop some variables that shouldn't be used to predict whether or not there is rain.\n",
        "predictors = df.drop(['day','hour','Prec_inches'],axis=1) \n",
        "predictors"
      ]
    },
    {
      "cell_type": "code",
      "execution_count": null,
      "id": "c8ff62ec",
      "metadata": {
        "id": "c8ff62ec"
      },
      "outputs": [],
      "source": [
        "## Great, that worked. Now I will assign everything but \"prec\" to be the predictor array \"x\", \n",
        "## and prec will be the predictand vector \"y\".\n",
        "\n",
        "x = predictors.drop('prec_occur',axis=1)\n",
        "y = predictors.prec_occur"
      ]
    },
    {
      "cell_type": "markdown",
      "id": "666a35b2",
      "metadata": {
        "id": "666a35b2"
      },
      "source": [
        "**Q2 & Q3 do not need to be addressed in our dataset.**"
      ]
    },
    {
      "cell_type": "markdown",
      "id": "e53cb777",
      "metadata": {
        "id": "e53cb777"
      },
      "source": [
        "**Q4. How will you validate your model?**\n",
        "\n",
        "perform a test-train split to validate our trained model.\n",
        "This step must be performed before each time the model is trained to ensure we are not \n",
        "baking in any bias among the models we train. That also means the following two steps must \n",
        "also be performed prior to training each model as well. For this reason, I wrote functions to call \n",
        "easily before each model training."
      ]
    },
    {
      "cell_type": "code",
      "execution_count": null,
      "id": "d480b0fc",
      "metadata": {
        "id": "d480b0fc"
      },
      "outputs": [],
      "source": [
        "from sklearn.model_selection import train_test_split\n",
        "from random import randint"
      ]
    },
    {
      "cell_type": "code",
      "execution_count": null,
      "id": "74313cb6",
      "metadata": {
        "id": "74313cb6"
      },
      "outputs": [],
      "source": [
        "def define_holdout_data(x, y, verbose):\n",
        "    \"\"\"Perform a 80/20 test-train split (80% of data is training, 20% is testing). Split is randomized with each call.\"\"\"\n",
        "    random_state = randint(0,1000)\n",
        "    x_train, x_test, y_train, y_test = train_test_split(x, y, test_size=0.20, random_state=random_state)\n",
        "    if verbose==True:\n",
        "        print(\"Prior to scaling and rebalacing...\")\n",
        "        print(\"Shape of training predictors: \"+str(np.shape(x_train)))\n",
        "        print(\"Shape of testing predictors: \"+str(np.shape(x_test)))\n",
        "        print(\"Shape of training predictands: \"+str(np.shape(y_train)))\n",
        "        print(\"Shape of testing predictands: \"+str(np.shape(y_test)))\n",
        "        print(\" \")\n",
        "    return x_train, x_test, y_train, y_test"
      ]
    },
    {
      "cell_type": "markdown",
      "id": "6a2bb2c7",
      "metadata": {
        "id": "6a2bb2c7"
      },
      "source": [
        "**Q5. Do your features have the same variance?**\n",
        "\n",
        "We must normalize the features. In machine learning this is called Feature Scaling\".\n",
        "We do this for the same reason we normalized prior to running the K-Means clustering algorithm.\n",
        "\n",
        "The difference here is that I will keep the data as a pandas dataframe rather than converting it to a numpy array beforehand. The \"fit_transform\" function outputs a numpy array, but we will convert back to a dataframe so that re-balancing the dataset is easier.\n",
        "\n",
        "Note: If my predictand wasn't binary, then I would also want to normalize that as well."
      ]
    },
    {
      "cell_type": "code",
      "execution_count": null,
      "id": "b8af7b36",
      "metadata": {
        "id": "b8af7b36"
      },
      "outputs": [],
      "source": [
        "from sklearn import preprocessing"
      ]
    },
    {
      "cell_type": "code",
      "execution_count": null,
      "id": "81836729",
      "metadata": {
        "id": "81836729"
      },
      "outputs": [],
      "source": [
        "def scale_data(x_train, x_test):\n",
        "    \"\"\"\n",
        "    Scale training data so that model reaches optimized weights much faster. \n",
        "    \n",
        "    *All data that enters the model should use the same scaling used to scale the training data.*\n",
        "    Thus, we also perform scaling on testing data for validation later. \n",
        "    Additionally, we return the scaler used to scale any other future input data.\n",
        "    \"\"\"\n",
        "    \n",
        "    scaler = preprocessing.MinMaxScaler() # normalize \n",
        "    x_train_scaled = pd.DataFrame(data=scaler.fit_transform(x_train),index=x_train.index,columns=x_train.columns) \n",
        "    x_test_scaled = pd.DataFrame(data=scaler.transform(x_test),index=x_test.index,columns=x_test.columns)\n",
        "    \n",
        "    return scaler, x_train_scaled, x_test_scaled"
      ]
    },
    {
      "cell_type": "markdown",
      "id": "e67f8816",
      "metadata": {
        "id": "e67f8816"
      },
      "source": [
        "**Q6. Are there the same number of observations for each outcome or class?**\n",
        "Luckily, we have the same number of observations for each feature (8784). \n",
        "\n",
        "**Question:** But do we have the same number of outcomes for our predictand - i.e., the same number of hours that are precipitating as those that are non-precipitating?"
      ]
    },
    {
      "cell_type": "code",
      "execution_count": null,
      "id": "3e37ad1d",
      "metadata": {
        "colab": {
          "base_uri": "https://localhost:8080/"
        },
        "id": "3e37ad1d",
        "outputId": "d7a0d1cb-db62-480f-e960-c099a252238e"
      },
      "outputs": [
        {
          "output_type": "execute_result",
          "data": {
            "text/plain": [
              "0    8501\n",
              "1     283\n",
              "Name: prec_occur, dtype: int64"
            ]
          },
          "metadata": {},
          "execution_count": 14
        }
      ],
      "source": [
        "df['prec_occur'].value_counts()"
      ]
    },
    {
      "cell_type": "markdown",
      "id": "62fce0fe",
      "metadata": {
        "id": "62fce0fe"
      },
      "source": [
        "**Answer:** Definitely not. The outcomes we are trying to predict are extremely unbalanced. Non-precip hours occur 30x more than precip hours. This class imbalance may bias the model because precip hours are underrepresented, which means the model won't have as many instances of precip hours to learn to distinguish precip hours from non-precip hours.\n",
        "\n",
        "There are a number of out-of-the-box functions that resample data very precisely. The one I use below simply randomly oversamples the existing precipitating observation data to balance the dataset.\n",
        "\n",
        "Note: This function should be called on both training and testing data separately."
      ]
    },
    {
      "cell_type": "code",
      "execution_count": null,
      "id": "920defe3",
      "metadata": {
        "id": "920defe3"
      },
      "outputs": [],
      "source": [
        "from sklearn.utils import resample"
      ]
    },
    {
      "cell_type": "code",
      "execution_count": null,
      "id": "0663cc75",
      "metadata": {
        "id": "0663cc75"
      },
      "outputs": [],
      "source": [
        "def balance_data(x,y,verbose):\n",
        "    \"\"\"Resample data ensure model is not biased towards a particular outcome of precip or no precip.\"\"\"\n",
        "    # Combine again to one dataframe to ensure both the predictor and predictand are resampled from the same \n",
        "    # observations based on predictand outcomes. \n",
        "    dataset = pd.concat([x, y],axis=1)\n",
        "\n",
        "    # Separating classes\n",
        "    raining = dataset[dataset['prec_occur'] == 1]\n",
        "    not_raining = dataset[dataset['prec_occur'] == 0]\n",
        "\n",
        "    random_state = randint(0,1000)\n",
        "    oversample = resample(raining, \n",
        "                           replace=True, \n",
        "                           n_samples=len(not_raining), #set the number of samples to equal the number of the majority class\n",
        "                           random_state=random_state)\n",
        "\n",
        "    # Returning to new training set\n",
        "    oversample_dataset = pd.concat([not_raining, oversample])\n",
        "\n",
        "    # reseparate oversampled data into X and y sets\n",
        "    x_bal = oversample_dataset.drop(['prec_occur'], axis=1)\n",
        "    y_bal = oversample_dataset['prec_occur']\n",
        "\n",
        "    if verbose==True:\n",
        "        print(\"After scaling and rebalacing...\")\n",
        "        print(\"Shape of predictors: \"+str(np.shape(x_bal)))\n",
        "        print(\"Shape of predictands: \"+str(np.shape(y_bal)))\n",
        "        print(\" \")\n",
        "    \n",
        "    return x_bal, y_bal"
      ]
    },
    {
      "cell_type": "markdown",
      "id": "597128e9",
      "metadata": {
        "id": "597128e9"
      },
      "source": [
        "**Having got this far -- Now, let's put the data prep code from questions 1-6 into a pipeline.  In other words we will write a single function to accomplish everything we have done so far in this notebook.**\n"
      ]
    },
    {
      "cell_type": "code",
      "execution_count": null,
      "id": "3b4daf7b",
      "metadata": {
        "id": "3b4daf7b"
      },
      "outputs": [],
      "source": [
        "def dataprep_pipeline(x, y, verbose):\n",
        "    \"\"\" Combines all the functions defined above so that the user only has to \n",
        "    call one function to do all data pre-processing. \"\"\"\n",
        "    # verbose=True prints the shapes of input & output data\n",
        "\n",
        "    # split into training & testing data\n",
        "    x_train, x_test, y_train, y_test = define_holdout_data(x, y, verbose) \n",
        "\n",
        "    # perform feature scaling\n",
        "    scaler, x_train_scaled, x_test_scaled = scale_data(x_train, x_test)\n",
        "\n",
        "    # rebalance according to outcomes (i.e., the number of precipitating \n",
        "    # observations & non-precipitating outcomes should be equal)\n",
        "    if verbose==True:\n",
        "        print(\"for training data... \")\n",
        "    x_train_bal, y_train_bal = balance_data(x_train_scaled, y_train, verbose)\n",
        "    if verbose==True:\n",
        "        print(\"for testing data... \")\n",
        "    x_test_bal, y_test_bal = balance_data(x_test_scaled, y_test, verbose)\n",
        "    \n",
        "    return x_train_bal, y_train_bal, x_test_bal, y_test_bal"
      ]
    },
    {
      "cell_type": "markdown",
      "id": "888e4f75",
      "metadata": {
        "id": "888e4f75"
      },
      "source": [
        "**Q7. What are the appropriate metrics for assessing your model?**\n",
        "These metrics will be used to evaluate the model after training. Thus, these functions will also be called for each model."
      ]
    },
    {
      "cell_type": "code",
      "execution_count": null,
      "id": "f54cc1e3",
      "metadata": {
        "id": "f54cc1e3"
      },
      "outputs": [],
      "source": [
        "from sklearn import metrics\n",
        "from sklearn.metrics import accuracy_score, f1_score, precision_score, recall_score, roc_auc_score, confusion_matrix\n",
        "import matplotlib.pyplot as plt\n",
        "import seaborn as sns"
      ]
    },
    {
      "cell_type": "code",
      "execution_count": null,
      "id": "cf8887a1",
      "metadata": {
        "id": "cf8887a1"
      },
      "outputs": [],
      "source": [
        ""
      ]
    },
    {
      "cell_type": "markdown",
      "id": "74343d78",
      "metadata": {
        "id": "74343d78"
      },
      "source": [
        "First, define functions for evaluating models\n",
        "I'm simply going to train various models and then look at their model metrics. Then we can make a prediction based on some selected observation to obtain a likelihood that it's raining, and we can compare with our own eyes whether the model gets it right.\n",
        "\n",
        "Below are some commonly-used metrics for assessing the value of a given Machine Learning model.\n",
        "\n",
        "\"**True Positive (TP)**\" Is the number of times the model predicts a positive when the observation is actually positive. In our case, the model predicts that its raining when it is actually raining.<br>\n",
        "\"**False Positive (FP)**\" The number of times the model guesses that it's raining when it's not actually raining.<br>\n",
        "The same applies to **True Negatives (TN)** (correctly predicting that it's not raining) and **False Negatives (FN)** (predicting no rain when it's actually raining).\n",
        "\n",
        "\n",
        " - **Precision = TP/(TP + FP)**: The proportion of predicted precipitating events that are actually precipitating.\n",
        " - **Accuracy = (TP + TN)/(total)**: The proportion of precipitating hours or non-precipitating hours that are correctly predicted by the model.\n",
        " - **Recall = TP/(TP + FN)**: The proportion of precipitating hours that are correctly predicted by the model.<br>\n",
        "<br>\n",
        "Other important metrics that we aren't going to look at today:\n",
        " - **F1**: a way to capture how well the model predicts the hours that it's actually precipitating.\n",
        " - **ROC/AUC**: how well the model separates precipitating hours from non-precipitating hours."
      ]
    },
    {
      "cell_type": "code",
      "execution_count": null,
      "id": "fa0c1be8",
      "metadata": {
        "id": "fa0c1be8"
      },
      "outputs": [],
      "source": [
        "# Print rounded metrics for each model.\n",
        "def bin_metrics(x, y):\n",
        "    \"\"\"Prints accuracy and recall metrics for evaluating \n",
        "    classification predictions.\"\"\"\n",
        "    \n",
        "    accuracy = metrics.accuracy_score(x, y)\n",
        "    recall = metrics.recall_score(x, y)\n",
        "\n",
        "    print('Accuracy:', round(accuracy, 4))\n",
        "    print('Recall:', round(recall, 4))\n",
        "    \n",
        "    return accuracy, recall\n",
        "\n",
        "\n",
        "# Plot confusion matrix\n",
        "def plot_cm(x, y):\n",
        "    \"\"\"Plots the confusion matrix to visualize true \n",
        "    & false positives & negatives\"\"\"\n",
        "    cm = confusion_matrix(x, y)\n",
        "    df_cm = pd.DataFrame(cm, columns=np.unique(x), index = np.unique(x))\n",
        "    df_cm.index.name = 'Actual'\n",
        "    df_cm.columns.name = 'Predicted'\n",
        "    sns.heatmap(df_cm, cmap=\"Blues\", annot=True,annot_kws={\"size\": 25}, fmt='g')# font size\n",
        "    plt.ylim([0, 2])\n",
        "    plt.xticks([0.5, 1.5], ['Negatives','Positives'])\n",
        "    plt.yticks([0.5, 1.5], ['Negatives','Positives'])"
      ]
    },
    {
      "cell_type": "code",
      "execution_count": null,
      "id": "ecb74cf5",
      "metadata": {
        "id": "ecb74cf5"
      },
      "outputs": [],
      "source": [
        "##Based on our answer to number 7 under the \"1. Data Preparation\" section above, \n",
        "##I will be using Accuracy and Recall to compare these four different models.\n",
        "\n",
        "#Another way we can evaluate the models is to compare precipitation likelihood given the same set of atmospheric conditions.\n",
        "#First, let's choose some observation in the pre-scaled dataset shows that it's raining, and then find the corresponding scaled observation:"
      ]
    },
    {
      "cell_type": "code",
      "execution_count": null,
      "id": "5cf4f28f",
      "metadata": {
        "id": "5cf4f28f"
      },
      "outputs": [],
      "source": [
        "def rand_atmos_conditions_precip(index='rand'):\n",
        "    \"\"\"\n",
        "    Function returns atmospheric conditions in a dataframe as well as the scaled\n",
        "    conditions in a numpy array so that they output a prediction in the model.\n",
        "    \n",
        "    If no input is passed, the function will randomly generate an in index to \n",
        "    choose from those observations in some training data with precipitation. \n",
        "    Otherwise, an integer index between 0 and 200 should be passed.\n",
        "    \"\"\"\n",
        "    # First, perform a test-train split\n",
        "    x_train, x_test, y_train, _ = define_holdout_data(x, y, verbose=False) \n",
        "\n",
        "    # perform feature scaling\n",
        "    _, x_train_scaled, _ = scale_data(x_train, x_test)\n",
        "\n",
        "    # this is what will go into the model to output a prediction\n",
        "    if index=='rand':\n",
        "        index = randint(0,len(y_train[y_train==1].index)) \n",
        "    precipindex = y_train[y_train==1].index.values[index]\n",
        "    testpredictor = x_train_scaled.loc[precipindex] \n",
        "    \n",
        "    return df.iloc[precipindex], testpredictor    "
      ]
    },
    {
      "cell_type": "markdown",
      "id": "ac59d0ec",
      "metadata": {
        "id": "ac59d0ec"
      },
      "source": [
        "# Train & Compare four Machine Learning models\n",
        "Each section below goes through building and training a ML model. In each section, there are a few steps for each model \"pipeline\":\n",
        "1. __Randomly perform a test-train split, feature scaling, and resample data to ensure outcomes are balanced__. \n",
        "2. __Train your model__.\n",
        "3. __Assess model metrics with testing and training data__. We begin by first assessing each model's performance by calculating the metrics defined above on the *testing* or *holdout* data; the key here is that the model has never seen this data. <br>__If applicable, tune your model.__ This means choosing new *hyperparameters*, retraining the model, and then reassessing the same model metrics to see if the model yields better results.\n",
        "3. __Check for model overfitting__. We will also check to see if the model is overfitting by comparing metrics of the testing data to that of the training data. In short, the training data should not be outperforming the testing data.\n",
        "4. __Actually make a prediction with a single observation__. "
      ]
    },
    {
      "cell_type": "markdown",
      "id": "ec963c2d",
      "metadata": {
        "id": "ec963c2d"
      },
      "source": [
        "## Model 1: Logistic Regression"
      ]
    },
    {
      "cell_type": "code",
      "execution_count": null,
      "id": "72d5eeb0",
      "metadata": {
        "id": "72d5eeb0"
      },
      "outputs": [],
      "source": [
        "from sklearn.linear_model import LogisticRegression"
      ]
    },
    {
      "cell_type": "code",
      "execution_count": null,
      "id": "ca2129a9",
      "metadata": {
        "colab": {
          "base_uri": "https://localhost:8080/"
        },
        "id": "ca2129a9",
        "outputId": "ad36ce91-2250-4013-f7be-305699f81fbf"
      },
      "outputs": [
        {
          "output_type": "stream",
          "name": "stdout",
          "text": [
            "Prior to scaling and rebalacing...\n",
            "Shape of training predictors: (7027, 9)\n",
            "Shape of testing predictors: (1757, 9)\n",
            "Shape of training predictands: (7027,)\n",
            "Shape of testing predictands: (1757,)\n",
            " \n",
            "for training data... \n",
            "After scaling and rebalacing...\n",
            "Shape of predictors: (13590, 9)\n",
            "Shape of predictands: (13590,)\n",
            " \n",
            "for testing data... \n",
            "After scaling and rebalacing...\n",
            "Shape of predictors: (3412, 9)\n",
            "Shape of predictands: (3412,)\n",
            " \n"
          ]
        }
      ],
      "source": [
        "## 1. Perform a test-train split, perform feature scaling, and the rebalance our dataset.\n",
        "x_train_bal, y_train_bal, x_test_bal, y_test_bal = dataprep_pipeline(x, y, verbose=True)"
      ]
    },
    {
      "cell_type": "code",
      "execution_count": null,
      "id": "8db8e2f0",
      "metadata": {
        "id": "8db8e2f0"
      },
      "outputs": [],
      "source": [
        "## 2. Train the Logistic Regression model\n",
        "# initialize the model\n",
        "lr = LogisticRegression(solver='lbfgs') \n",
        "# we choose this particular solver because we're not regularizing or penalizing certain features\n",
        "\n",
        "# fit the model to scaled & balanced training data. Side note: this is where *Gradient Descent* occurs.\n",
        "lr.fit(x_train_bal, y_train_bal);"
      ]
    },
    {
      "cell_type": "code",
      "execution_count": null,
      "id": "e7d10da1",
      "metadata": {
        "colab": {
          "base_uri": "https://localhost:8080/"
        },
        "id": "e7d10da1",
        "outputId": "c1f4d796-a2a8-48c6-f3f8-728da284530b"
      },
      "outputs": [
        {
          "output_type": "stream",
          "name": "stdout",
          "text": [
            "Accuracy: 0.8312\n",
            "Recall: 0.8558\n"
          ]
        }
      ],
      "source": [
        "## 3. Assess Logistic Regression's performance using testing data\n",
        "##Now that we've \"trained\" our model, we make predictions using data that the \n",
        "## model has never seen before (i.e., our holdout testing data) to see how it performs.\n",
        "\n",
        "y_pred = lr.predict(x_test_bal)\n",
        "\n",
        "# Call functions defined above to calculate metrics & plot a confusion matrix based on\n",
        "# how well model simulates testing data\n",
        "#plot_cm(y_test_bal, y_pred);\n",
        "lr_acc, lr_rec = bin_metrics(y_test_bal, y_pred)\n"
      ]
    },
    {
      "cell_type": "code",
      "execution_count": null,
      "id": "fad3d91b",
      "metadata": {
        "id": "fad3d91b"
      },
      "outputs": [],
      "source": [
        "## TEXT"
      ]
    },
    {
      "cell_type": "code",
      "execution_count": null,
      "id": "700f23a5",
      "metadata": {
        "colab": {
          "base_uri": "https://localhost:8080/"
        },
        "id": "700f23a5",
        "outputId": "2343dcb4-e719-4777-fcc0-fdc72a0a132f"
      },
      "outputs": [
        {
          "output_type": "stream",
          "name": "stdout",
          "text": [
            "Training metrics:\n",
            "Accuracy: 0.8444\n",
            "Recall: 0.8756\n",
            " \n",
            "Testing metrics:\n",
            "Accuracy: 0.8312\n",
            "Recall: 0.8558\n"
          ]
        }
      ],
      "source": [
        "##4. Check to see if the Logistic Regression model is overfitting (or underfitting)\n",
        "#Remember:\n",
        "#testing metrics > training metrics = underfitting, model is too simple\n",
        "#testing metrics < training metrics = overfitting, model is too complex\n",
        "\n",
        "# Compare testing data metrics to data training metrics.\n",
        "print(\"Training metrics:\")\n",
        "pred_train= lr.predict(x_train_bal) \n",
        "bin_metrics(y_train_bal,pred_train);\n",
        "\n",
        "# As a reminder, display testing metrics:\n",
        "print(\" \")\n",
        "print(\"Testing metrics:\")\n",
        "bin_metrics(y_test_bal, y_pred);"
      ]
    },
    {
      "cell_type": "code",
      "execution_count": null,
      "id": "8da5ba77",
      "metadata": {
        "id": "8da5ba77"
      },
      "outputs": [],
      "source": [
        "## 5. Make a prediction with the Logistic Regression model\n",
        "#First, we randomly choose some atmospheric conditions using the function defined above. \n",
        "#This will be the atmospheric conditions we use for all models we build.\n",
        "\n",
        "origvals, testpredictor = rand_atmos_conditions_precip()\n",
        "# print(origvals) # observation from original dataframe\n",
        "# print(testpredictor) # scaled observation"
      ]
    },
    {
      "cell_type": "code",
      "execution_count": null,
      "id": "ce35350c",
      "metadata": {
        "colab": {
          "base_uri": "https://localhost:8080/"
        },
        "id": "ce35350c",
        "outputId": "01f1a4ee-a758-4bf6-9847-4b5334541c78"
      },
      "outputs": [
        {
          "output_type": "stream",
          "name": "stdout",
          "text": [
            "The meteorological conditions are: \n",
            "day             2016-04-16\n",
            "hour              0.041667\n",
            "temp_F                35.0\n",
            "RH                    86.5\n",
            "dewtemp_F             31.4\n",
            "wind_mph              13.8\n",
            "wind_dir               315\n",
            "windgust              21.0\n",
            "windgust_dir           324\n",
            "pres_Hg             840.92\n",
            "SOLIN_Wm2              0.0\n",
            "Prec_inches           0.08\n",
            "prec_occur               1\n",
            "Name: 2545, dtype: object\n",
            " \n",
            "There is a 95.65% chance of precipitation given those meteorological conditions.\n"
          ]
        },
        {
          "output_type": "stream",
          "name": "stderr",
          "text": [
            "/usr/local/lib/python3.7/dist-packages/sklearn/base.py:451: UserWarning: X does not have valid feature names, but LogisticRegression was fitted with feature names\n",
            "  \"X does not have valid feature names, but\"\n"
          ]
        }
      ],
      "source": [
        "# prediction output is in the format [probability no rain, probability rain]\n",
        "lr_prediction = lr.predict_proba(np.array(testpredictor).reshape(1, -1))[0][1]*100 \n",
        "print(\"The meteorological conditions are: \")\n",
        "print(origvals)\n",
        "print(\" \")\n",
        "print(\"There is a {0:.{digits}f}% chance of precipitation given those meteorological conditions.\".format(lr_prediction, digits=2))"
      ]
    },
    {
      "cell_type": "markdown",
      "id": "1d5e0db2",
      "metadata": {
        "id": "1d5e0db2"
      },
      "source": [
        "## Model 2: Random Forest\n",
        "\n",
        "To understand random forests, one must first understand a [decision tree](https://scikit-learn.org/stable/modules/tree.html#tree). A decision tree is intuitive: it is essentially a flowchart to point to an outcome based on \"decisions\" for each feature. <br><br>\n",
        "A Random Forest is an ensemble of decision trees that are randomly constructed based on the features of the dataset and number of decisions. Trees are constructed by randomly choosing a feature to \"seed\" each tree, and then making rules or associations with other features to lead to the specified outcome."
      ]
    },
    {
      "cell_type": "code",
      "execution_count": null,
      "id": "5bf08596",
      "metadata": {
        "id": "5bf08596"
      },
      "outputs": [],
      "source": [
        "from sklearn.ensemble import RandomForestClassifier"
      ]
    },
    {
      "cell_type": "code",
      "execution_count": null,
      "id": "d3b11786",
      "metadata": {
        "id": "d3b11786"
      },
      "outputs": [],
      "source": [
        "##1. Perform a test-train split, perform feature scaling, and the rebalance our dataset.\n",
        "## Perform a train-test split for cross-validation, perform feature scaling, and \n",
        "## rebalance each testing & training dataset.\n",
        "\n",
        "x_train_bal, y_train_bal, x_test_bal, y_test_bal = dataprep_pipeline(x, y, verbose=False)"
      ]
    },
    {
      "cell_type": "code",
      "execution_count": null,
      "id": "ed28b135",
      "metadata": {
        "colab": {
          "base_uri": "https://localhost:8080/"
        },
        "id": "ed28b135",
        "outputId": "9a50299b-a2ef-4e91-e649-65321b833887"
      },
      "outputs": [
        {
          "output_type": "stream",
          "name": "stdout",
          "text": [
            "Number of estimators is 10\n",
            "depth is 2\n",
            "depth is 10\n",
            "depth is 100\n",
            "Random Forest took 0.9620890617370605 seconds.\n",
            "Number of estimators is 50\n",
            "depth is 2\n",
            "depth is 10\n",
            "depth is 100\n",
            "Random Forest took 2.517953872680664 seconds.\n",
            "Number of estimators is 500\n",
            "depth is 2\n",
            "depth is 10\n",
            "depth is 100\n",
            "Random Forest took 18.91431427001953 seconds.\n"
          ]
        }
      ],
      "source": [
        "##2. Train (and tuning) the Random Forest model\n",
        "\n",
        "##Choosing hyperparameters: There are many hyperparameters one can decide upon when \n",
        "## tuning the Random Forest classifier. The two we will be adjusting is\n",
        "##1) The number of estimators or \"trees\" in the forest\n",
        "##2) The depth of the tree, or how many \"decisions\" are made until convergence is reached.\n",
        "\n",
        "acc_scores = []\n",
        "rec_scores = []\n",
        "\n",
        "num_est = [10, 50, 500] # number of trees\n",
        "depth = [2, 10, 100] # number of decisions\n",
        "for i in num_est:\n",
        "    start = time.time()\n",
        "    print(\"Number of estimators is \"+str(i))\n",
        "\n",
        "    for k in depth:\n",
        "        print(\"depth is \"+str(k))\n",
        "        forest = RandomForestClassifier(n_estimators=i, max_depth=k)\n",
        "        forest.fit(x_train_bal, y_train_bal)\n",
        "        \n",
        "        # cross validate & evaluate metrics based on testing data\n",
        "        pred_test= forest.predict(x_test_bal)\n",
        "        acc_val = metrics.accuracy_score(y_test_bal, pred_test)\n",
        "        acc_scores.append(acc_val)\n",
        "        rec_val = metrics.recall_score(y_test_bal, pred_test)\n",
        "        rec_scores.append(rec_val)\n",
        "\n",
        "    end = time.time()\n",
        "    print(\"Random Forest took \"+str(end-start)+\" seconds.\")"
      ]
    },
    {
      "cell_type": "code",
      "execution_count": null,
      "id": "79589936",
      "metadata": {
        "colab": {
          "base_uri": "https://localhost:8080/",
          "height": 300
        },
        "id": "79589936",
        "outputId": "067aac89-9c2d-4e07-9051-4eeecc164b8a"
      },
      "outputs": [
        {
          "output_type": "stream",
          "name": "stdout",
          "text": [
            "Max Accuracy (black): 0.8381\n",
            "Max Recall (blue): 0.8121\n"
          ]
        },
        {
          "output_type": "display_data",
          "data": {
            "text/plain": [
              "<Figure size 432x288 with 1 Axes>"
            ],
            "image/png": "[encoded data removed]"
          },
          "metadata": {
            "needs_background": "light"
          }
        }
      ],
      "source": [
        "plt.plot(acc_scores, marker='o', color='black')\n",
        "plt.plot(rec_scores, marker='o', color='blue')\n",
        "print(\"Max Accuracy (black):\", round(max(acc_scores), 4))\n",
        "print(\"Max Recall (blue):\", round(max(rec_scores), 4))"
      ]
    },
    {
      "cell_type": "code",
      "execution_count": null,
      "id": "c0681e6b",
      "metadata": {
        "id": "c0681e6b"
      },
      "outputs": [],
      "source": [
        "##Choosing the right hyperparameters for this model requires revisiting which \n",
        "##metrics are most important to our question. We want to maximize both recall and accuracy.\n",
        "#For simplicity, I choose the parameters corresponding to x=0, but \n",
        "#I highly suggest you try other combinations of parameters as well.\n",
        "\n",
        "forest = RandomForestClassifier(n_estimators=10, max_depth=2);\n",
        "forest.fit(x_train_bal, y_train_bal);"
      ]
    },
    {
      "cell_type": "code",
      "execution_count": null,
      "id": "5280d6c2",
      "metadata": {
        "id": "5280d6c2"
      },
      "outputs": [],
      "source": [
        "forest = RandomForestClassifier(n_estimators=10, max_depth=2);\n",
        "forest.fit(x_train_bal, y_train_bal);"
      ]
    },
    {
      "cell_type": "code",
      "execution_count": null,
      "id": "c1ad9003",
      "metadata": {
        "colab": {
          "base_uri": "https://localhost:8080/"
        },
        "id": "c1ad9003",
        "outputId": "3185e268-5b06-4ba0-e738-05fdf01a00f3"
      },
      "outputs": [
        {
          "output_type": "stream",
          "name": "stdout",
          "text": [
            "Accuracy: 0.7878\n",
            "Recall: 0.7436\n"
          ]
        }
      ],
      "source": [
        "## 3. Assess the Random Forest's performance using testing data\n",
        "##Once again, we will use our testing data to make an initial evaluation of how the model is doing.\n",
        "\n",
        "pred_test= forest.predict(x_test_bal)\n",
        "\n",
        "# Call functions defined above to calculate metrics & plot a confusion matrix based on\n",
        "# how well model simulates testing data\n",
        "forest_acc, forest_rec = bin_metrics(y_test_bal, pred_test)\n",
        "#plot_cm(y_test_bal, pred_test)\n"
      ]
    },
    {
      "cell_type": "code",
      "execution_count": null,
      "id": "48eefb0b",
      "metadata": {
        "colab": {
          "base_uri": "https://localhost:8080/"
        },
        "id": "48eefb0b",
        "outputId": "1f341ec5-ec99-473f-fa4c-0b61f66bcbf4"
      },
      "outputs": [
        {
          "output_type": "stream",
          "name": "stdout",
          "text": [
            "Training metrics:\n",
            "Accuracy: 0.8086\n",
            "Recall: 0.7883\n",
            " \n",
            "Testing metrics:\n",
            "Accuracy: 0.7878\n",
            "Recall: 0.7436\n"
          ]
        }
      ],
      "source": [
        "## 4. Check to see if the Random Forest is overfitting\n",
        "\n",
        "# Compare testing data metrics to data training metrics.\n",
        "print(\"Training metrics:\")\n",
        "rf_pred_train= forest.predict(x_train_bal) \n",
        "bin_metrics(y_train_bal,rf_pred_train);\n",
        "\n",
        "# As a reminder, display testing metrics:\n",
        "print(\" \")\n",
        "print(\"Testing metrics:\")\n",
        "bin_metrics(y_test_bal, pred_test);"
      ]
    },
    {
      "cell_type": "code",
      "execution_count": null,
      "id": "14c811a6",
      "metadata": {
        "id": "14c811a6"
      },
      "outputs": [],
      "source": [
        "#Random forests seldom overfit, but if they do, one should try increasing the number of trees, or decreasing the amount of data used to construct each tree. See scikit-learn's Random Forest Classifier webpage for \n",
        "#information on more hyperparameters one can tune to address overfitting."
      ]
    },
    {
      "cell_type": "code",
      "execution_count": null,
      "id": "a9c11a19",
      "metadata": {
        "colab": {
          "base_uri": "https://localhost:8080/"
        },
        "id": "a9c11a19",
        "outputId": "8f6fa52b-2431-47cb-872b-9b489bac592f"
      },
      "outputs": [
        {
          "output_type": "stream",
          "name": "stdout",
          "text": [
            "The meteorological conditions are: \n",
            "day             2016-03-18\n",
            "hour                 0.125\n",
            "temp_F                21.3\n",
            "RH                    89.7\n",
            "dewtemp_F             18.8\n",
            "wind_mph              12.0\n",
            "wind_dir               322\n",
            "windgust              16.8\n",
            "windgust_dir           318\n",
            "pres_Hg             844.75\n",
            "SOLIN_Wm2              0.1\n",
            "Prec_inches           0.01\n",
            "prec_occur               1\n",
            "Name: 1851, dtype: object\n",
            " \n",
            "There is a 79.78% chance of precipitation given those meteorological conditions.\n"
          ]
        },
        {
          "output_type": "stream",
          "name": "stderr",
          "text": [
            "/usr/local/lib/python3.7/dist-packages/sklearn/base.py:451: UserWarning: X does not have valid feature names, but RandomForestClassifier was fitted with feature names\n",
            "  \"X does not have valid feature names, but\"\n"
          ]
        }
      ],
      "source": [
        "##5. Make a prediction with the Random Forest\n",
        "\n",
        "# prediction output is in the format [probability no rain, probability rain]\n",
        "forest_prediction = forest.predict_proba(np.array(testpredictor).reshape(1, -1))[0][1]*100 \n",
        "print(\"The meteorological conditions are: \")\n",
        "print(origvals)\n",
        "print(\" \")\n",
        "print(\"There is a {0:.{digits}f}% chance of precipitation given those meteorological conditions.\".format(forest_prediction, digits=2))"
      ]
    },
    {
      "cell_type": "code",
      "execution_count": null,
      "id": "133f1b1f",
      "metadata": {
        "colab": {
          "base_uri": "https://localhost:8080/",
          "height": 175
        },
        "id": "133f1b1f",
        "outputId": "da6dab0c-4637-4f5a-a40f-addfc8c1c052"
      },
      "outputs": [
        {
          "output_type": "execute_result",
          "data": {
            "text/plain": [
              "                    Logistic Regression  Random Forest\n",
              "Metrics                                               \n",
              "Accuracy                       0.831184       0.787763\n",
              "Recall                         0.855803       0.743560\n",
              "Prediction example            95.652761      79.784011"
            ],
            "text/html": [
              "\n",
              "  <div id=\"df-1e8528a0-095c-41c8-8084-4ae03dd66a0a\">\n",
              "    <div class=\"colab-df-container\">\n",
              "      <div>\n",
              "<style scoped>\n",
              "    .dataframe tbody tr th:only-of-type {\n",
              "        vertical-align: middle;\n",
              "    }\n",
              "\n",
              "    .dataframe tbody tr th {\n",
              "        vertical-align: top;\n",
              "    }\n",
              "\n",
              "    .dataframe thead th {\n",
              "        text-align: right;\n",
              "    }\n",
              "</style>\n",
              "<table border=\"1\" class=\"dataframe\">\n",
              "  <thead>\n",
              "    <tr style=\"text-align: right;\">\n",
              "      <th></th>\n",
              "      <th>Logistic Regression</th>\n",
              "      <th>Random Forest</th>\n",
              "    </tr>\n",
              "    <tr>\n",
              "      <th>Metrics</th>\n",
              "      <th></th>\n",
              "      <th></th>\n",
              "    </tr>\n",
              "  </thead>\n",
              "  <tbody>\n",
              "    <tr>\n",
              "      <th>Accuracy</th>\n",
              "      <td>0.831184</td>\n",
              "      <td>0.787763</td>\n",
              "    </tr>\n",
              "    <tr>\n",
              "      <th>Recall</th>\n",
              "      <td>0.855803</td>\n",
              "      <td>0.743560</td>\n",
              "    </tr>\n",
              "    <tr>\n",
              "      <th>Prediction example</th>\n",
              "      <td>95.652761</td>\n",
              "      <td>79.784011</td>\n",
              "    </tr>\n",
              "  </tbody>\n",
              "</table>\n",
              "</div>\n",
              "      <button class=\"colab-df-convert\" onclick=\"convertToInteractive('df-1e8528a0-095c-41c8-8084-4ae03dd66a0a')\"\n",
              "              title=\"Convert this dataframe to an interactive table.\"\n",
              "              style=\"display:none;\">\n",
              "        \n",
              "  <svg xmlns=\"http://www.w3.org/2000/svg\" height=\"24px\"viewBox=\"0 0 24 24\"\n",
              "       width=\"24px\">\n",
              "    <path d=\"M0 0h24v24H0V0z\" fill=\"none\"/>\n",
              "    <path d=\"M18.56 5.44l.94 2.06.94-2.06 2.06-.94-2.06-.94-.94-2.06-.94 2.06-2.06.94zm-11 1L8.5 8.5l.94-2.06 2.06-.94-2.06-.94L8.5 2.5l-.94 2.06-2.06.94zm10 10l.94 2.06.94-2.06 2.06-.94-2.06-.94-.94-2.06-.94 2.06-2.06.94z\"/><path d=\"M17.41 7.96l-1.37-1.37c-.4-.4-.92-.59-1.43-.59-.52 0-1.04.2-1.43.59L10.3 9.45l-7.72 7.72c-.78.78-.78 2.05 0 2.83L4 21.41c.39.39.9.59 1.41.59.51 0 1.02-.2 1.41-.59l7.78-7.78 2.81-2.81c.8-.78.8-2.07 0-2.86zM5.41 20L4 18.59l7.72-7.72 1.47 1.35L5.41 20z\"/>\n",
              "  </svg>\n",
              "      </button>\n",
              "      \n",
              "  <style>\n",
              "    .colab-df-container {\n",
              "      display:flex;\n",
              "      flex-wrap:wrap;\n",
              "      gap: 12px;\n",
              "    }\n",
              "\n",
              "    .colab-df-convert {\n",
              "      background-color: #E8F0FE;\n",
              "      border: none;\n",
              "      border-radius: 50%;\n",
              "      cursor: pointer;\n",
              "      display: none;\n",
              "      fill: #1967D2;\n",
              "      height: 32px;\n",
              "      padding: 0 0 0 0;\n",
              "      width: 32px;\n",
              "    }\n",
              "\n",
              "    .colab-df-convert:hover {\n",
              "      background-color: #E2EBFA;\n",
              "      box-shadow: 0px 1px 2px rgba(60, 64, 67, 0.3), 0px 1px 3px 1px rgba(60, 64, 67, 0.15);\n",
              "      fill: #174EA6;\n",
              "    }\n",
              "\n",
              "    [theme=dark] .colab-df-convert {\n",
              "      background-color: #3B4455;\n",
              "      fill: #D2E3FC;\n",
              "    }\n",
              "\n",
              "    [theme=dark] .colab-df-convert:hover {\n",
              "      background-color: #434B5C;\n",
              "      box-shadow: 0px 1px 3px 1px rgba(0, 0, 0, 0.15);\n",
              "      filter: drop-shadow(0px 1px 2px rgba(0, 0, 0, 0.3));\n",
              "      fill: #FFFFFF;\n",
              "    }\n",
              "  </style>\n",
              "\n",
              "      <script>\n",
              "        const buttonEl =\n",
              "          document.querySelector('#df-1e8528a0-095c-41c8-8084-4ae03dd66a0a button.colab-df-convert');\n",
              "        buttonEl.style.display =\n",
              "          google.colab.kernel.accessAllowed ? 'block' : 'none';\n",
              "\n",
              "        async function convertToInteractive(key) {\n",
              "          const element = document.querySelector('#df-1e8528a0-095c-41c8-8084-4ae03dd66a0a');\n",
              "          const dataTable =\n",
              "            await google.colab.kernel.invokeFunction('convertToInteractive',\n",
              "                                                     [key], {});\n",
              "          if (!dataTable) return;\n",
              "\n",
              "          const docLinkHtml = 'Like what you see? Visit the ' +\n",
              "            '<a target=\"_blank\" href=https://colab.research.google.com/notebooks/data_table.ipynb>data table notebook</a>'\n",
              "            + ' to learn more about interactive tables.';\n",
              "          element.innerHTML = '';\n",
              "          dataTable['output_type'] = 'display_data';\n",
              "          await google.colab.output.renderOutput(dataTable, element);\n",
              "          const docLink = document.createElement('div');\n",
              "          docLink.innerHTML = docLinkHtml;\n",
              "          element.appendChild(docLink);\n",
              "        }\n",
              "      </script>\n",
              "    </div>\n",
              "  </div>\n",
              "  "
            ]
          },
          "metadata": {},
          "execution_count": 42
        }
      ],
      "source": [
        "model_metrics = pd.DataFrame({'Metrics':['Accuracy','Recall','Prediction example'],\n",
        "     'Logistic Regression':[lr_acc, lr_rec, lr_prediction],\n",
        "    'Random Forest':[forest_acc, forest_rec, forest_prediction]})\n",
        "model_metrics = model_metrics.set_index('Metrics')\n",
        "model_metrics"
      ]
    },
    {
      "cell_type": "code",
      "source": [
        ""
      ],
      "metadata": {
        "id": "4f04IDpvAuNW"
      },
      "id": "4f04IDpvAuNW",
      "execution_count": null,
      "outputs": []
    }
  ],
  "metadata": {
    "kernelspec": {
      "display_name": "Python 3 (ipykernel)",
      "language": "python",
      "name": "python3"
    },
    "language_info": {
      "codemirror_mode": {
        "name": "ipython",
        "version": 3
      },
      "file_extension": ".py",
      "mimetype": "text/x-python",
      "name": "python",
      "nbconvert_exporter": "python",
      "pygments_lexer": "ipython3",
      "version": "3.9.7"
    },
    "colab": {
      "name": "Example_christman_supervised_ML.ipynb",
      "provenance": [],
      "collapsed_sections": []
    }
  },
  "nbformat": 4,
  "nbformat_minor": 5
}